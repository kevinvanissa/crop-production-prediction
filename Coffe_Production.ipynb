{
 "cells": [
  {
   "cell_type": "markdown",
   "metadata": {},
   "source": [
    "# Coffee Production Prediction\n",
    "AIM: The purpose of this notebook is to demonstrate the steps involved in Data Science process to some students.\n",
    "This is a sample of a real dataset. This dataset was choosen instead of the usual house price prediction that is normally used for regression problems.\n"
   ]
  },
  {
   "cell_type": "markdown",
   "metadata": {},
   "source": [
    "## 1. IMPORTING LIBRARIES AND CONFIGURATIONS"
   ]
  },
  {
   "cell_type": "code",
   "execution_count": 39,
   "metadata": {
    "tags": []
   },
   "outputs": [],
   "source": [
    "%matplotlib inline "
   ]
  },
  {
   "cell_type": "code",
   "execution_count": 40,
   "metadata": {
    "tags": []
   },
   "outputs": [],
   "source": [
    "import numpy as np"
   ]
  },
  {
   "cell_type": "code",
   "execution_count": 41,
   "metadata": {},
   "outputs": [],
   "source": [
    "#warnings :)\n",
    "import warnings\n",
    "warnings.filterwarnings('ignore')\n",
    "\n",
    "import matplotlib.pyplot as plt\n",
    "from matplotlib import style\n",
    "import pandas as pd\n",
    "import numpy as np\n",
    "from sklearn.linear_model import LinearRegression\n",
    "from sklearn.model_selection import train_test_split\n",
    "from sklearn import preprocessing\n",
    "from sklearn import metrics\n",
    "import seaborn as sns\n",
    "sns.set()"
   ]
  },
  {
   "cell_type": "markdown",
   "metadata": {},
   "source": [
    "## 2. READING IN THE DATA"
   ]
  },
  {
   "cell_type": "code",
   "execution_count": 42,
   "metadata": {
    "tags": []
   },
   "outputs": [],
   "source": [
    "# Read in CSV File into a Dataframe\n",
    "df = pd.read_csv('JHM_JBM98_17_2.csv')"
   ]
  },
  {
   "cell_type": "code",
   "execution_count": 43,
   "metadata": {},
   "outputs": [
    {
     "data": {
      "text/html": [
       "<div>\n",
       "<style scoped>\n",
       "    .dataframe tbody tr th:only-of-type {\n",
       "        vertical-align: middle;\n",
       "    }\n",
       "\n",
       "    .dataframe tbody tr th {\n",
       "        vertical-align: top;\n",
       "    }\n",
       "\n",
       "    .dataframe thead th {\n",
       "        text-align: right;\n",
       "    }\n",
       "</style>\n",
       "<table border=\"1\" class=\"dataframe\">\n",
       "  <thead>\n",
       "    <tr style=\"text-align: right;\">\n",
       "      <th></th>\n",
       "      <th>Altitude (m)</th>\n",
       "      <th>Elevation range</th>\n",
       "      <th>Producing Districts per Main Group</th>\n",
       "      <th>Head Count to Main Groups (2004)</th>\n",
       "      <th>Head Count to Main Groups (2012)</th>\n",
       "      <th>Change in Group size (2012 minus 2004)</th>\n",
       "      <th>2009/10</th>\n",
       "      <th>2010/11</th>\n",
       "      <th>2011/12</th>\n",
       "      <th>Average</th>\n",
       "    </tr>\n",
       "  </thead>\n",
       "  <tbody>\n",
       "    <tr>\n",
       "      <th>0</th>\n",
       "      <td>198</td>\n",
       "      <td>Low</td>\n",
       "      <td>8</td>\n",
       "      <td>68</td>\n",
       "      <td>63</td>\n",
       "      <td>-5</td>\n",
       "      <td>1170.5</td>\n",
       "      <td>660.7</td>\n",
       "      <td>182.8</td>\n",
       "      <td>671.3</td>\n",
       "    </tr>\n",
       "    <tr>\n",
       "      <th>1</th>\n",
       "      <td>198</td>\n",
       "      <td>Low</td>\n",
       "      <td>10</td>\n",
       "      <td>174</td>\n",
       "      <td>390</td>\n",
       "      <td>216</td>\n",
       "      <td>2104.8</td>\n",
       "      <td>1539.0</td>\n",
       "      <td>909.8</td>\n",
       "      <td>1517.8</td>\n",
       "    </tr>\n",
       "    <tr>\n",
       "      <th>2</th>\n",
       "      <td>200</td>\n",
       "      <td>Low</td>\n",
       "      <td>23</td>\n",
       "      <td>213</td>\n",
       "      <td>318</td>\n",
       "      <td>105</td>\n",
       "      <td>1268.3</td>\n",
       "      <td>1276.5</td>\n",
       "      <td>1415.5</td>\n",
       "      <td>1320.1</td>\n",
       "    </tr>\n",
       "    <tr>\n",
       "      <th>3</th>\n",
       "      <td>209</td>\n",
       "      <td>Low</td>\n",
       "      <td>7</td>\n",
       "      <td>149</td>\n",
       "      <td>140</td>\n",
       "      <td>-9</td>\n",
       "      <td>649.2</td>\n",
       "      <td>326.3</td>\n",
       "      <td>102.3</td>\n",
       "      <td>359.2</td>\n",
       "    </tr>\n",
       "    <tr>\n",
       "      <th>4</th>\n",
       "      <td>237</td>\n",
       "      <td>Low</td>\n",
       "      <td>10</td>\n",
       "      <td>105</td>\n",
       "      <td>306</td>\n",
       "      <td>201</td>\n",
       "      <td>2516.8</td>\n",
       "      <td>1988.5</td>\n",
       "      <td>2787.3</td>\n",
       "      <td>2430.8</td>\n",
       "    </tr>\n",
       "  </tbody>\n",
       "</table>\n",
       "</div>"
      ],
      "text/plain": [
       "   Altitude (m) Elevation range  Producing Districts per Main Group  \\\n",
       "0           198             Low                                   8   \n",
       "1           198             Low                                  10   \n",
       "2           200             Low                                  23   \n",
       "3           209             Low                                   7   \n",
       "4           237             Low                                  10   \n",
       "\n",
       "   Head Count to Main Groups (2004)  Head Count to Main Groups (2012)  \\\n",
       "0                                68                                63   \n",
       "1                               174                               390   \n",
       "2                               213                               318   \n",
       "3                               149                               140   \n",
       "4                               105                               306   \n",
       "\n",
       "   Change in Group size (2012 minus 2004)  2009/10  2010/11  2011/12  Average  \n",
       "0                                      -5   1170.5    660.7    182.8    671.3  \n",
       "1                                     216   2104.8   1539.0    909.8   1517.8  \n",
       "2                                     105   1268.3   1276.5   1415.5   1320.1  \n",
       "3                                      -9    649.2    326.3    102.3    359.2  \n",
       "4                                     201   2516.8   1988.5   2787.3   2430.8  "
      ]
     },
     "execution_count": 43,
     "metadata": {},
     "output_type": "execute_result"
    }
   ],
   "source": [
    "# Preview the dataset\n",
    "df.head()"
   ]
  },
  {
   "cell_type": "markdown",
   "metadata": {},
   "source": [
    "## 3. EXPLORATORY DATA ANALYSIS"
   ]
  },
  {
   "cell_type": "code",
   "execution_count": 44,
   "metadata": {},
   "outputs": [
    {
     "data": {
      "text/plain": [
       "Altitude (m)                              False\n",
       "Elevation range                           False\n",
       "Producing Districts per Main Group        False\n",
       "Head Count to Main Groups (2004)          False\n",
       "Head Count to Main Groups (2012)          False\n",
       "Change in Group size (2012 minus 2004)    False\n",
       "2009/10                                   False\n",
       "2010/11                                   False\n",
       "2011/12                                   False\n",
       "Average                                   False\n",
       "dtype: bool"
      ]
     },
     "execution_count": 44,
     "metadata": {},
     "output_type": "execute_result"
    }
   ],
   "source": [
    "# Check if there are any empty values\n",
    "# If I had null values, I would then have to decide if I want to drop them (using df.dropna()) or, if I can enter a value from giving it an average or\n",
    "# using domain expertise to put in a likely value\n",
    "df.isnull().any()"
   ]
  },
  {
   "cell_type": "code",
   "execution_count": 45,
   "metadata": {},
   "outputs": [
    {
     "data": {
      "text/plain": [
       "(63, 10)"
      ]
     },
     "execution_count": 45,
     "metadata": {},
     "output_type": "execute_result"
    }
   ],
   "source": [
    "#Check the Shape of the dataset\n",
    "df.shape"
   ]
  },
  {
   "cell_type": "markdown",
   "metadata": {},
   "source": [
    "So based on the features we can start by doing he following. \n",
    "- We can use one hot encoding for the Elevation range(We do not have a lot of different categories so this works well for us) so that we can use numbers to represent the categories.\n",
    "- Since the head counts are for 2004 and 2012, we will drop those\n",
    "- Since we have the final average which will correlated to the production for each year, we can drop those and focus on the average production for the three years\n",
    "- We can also get rid of the change in Group size"
   ]
  },
  {
   "cell_type": "code",
   "execution_count": 46,
   "metadata": {
    "tags": []
   },
   "outputs": [],
   "source": [
    "#Insted of dropping the columns, I can keep what I am interested in. This might be a little quicker to do\n",
    "df=df[['Altitude (m)','Elevation range','Producing Districts per Main Group','Average']]\n",
    "\n"
   ]
  },
  {
   "cell_type": "code",
   "execution_count": 47,
   "metadata": {},
   "outputs": [
    {
     "data": {
      "text/html": [
       "<div>\n",
       "<style scoped>\n",
       "    .dataframe tbody tr th:only-of-type {\n",
       "        vertical-align: middle;\n",
       "    }\n",
       "\n",
       "    .dataframe tbody tr th {\n",
       "        vertical-align: top;\n",
       "    }\n",
       "\n",
       "    .dataframe thead th {\n",
       "        text-align: right;\n",
       "    }\n",
       "</style>\n",
       "<table border=\"1\" class=\"dataframe\">\n",
       "  <thead>\n",
       "    <tr style=\"text-align: right;\">\n",
       "      <th></th>\n",
       "      <th>Altitude (m)</th>\n",
       "      <th>Elevation range</th>\n",
       "      <th>Producing Districts per Main Group</th>\n",
       "      <th>Average</th>\n",
       "    </tr>\n",
       "  </thead>\n",
       "  <tbody>\n",
       "    <tr>\n",
       "      <th>0</th>\n",
       "      <td>198</td>\n",
       "      <td>Low</td>\n",
       "      <td>8</td>\n",
       "      <td>671.3</td>\n",
       "    </tr>\n",
       "    <tr>\n",
       "      <th>1</th>\n",
       "      <td>198</td>\n",
       "      <td>Low</td>\n",
       "      <td>10</td>\n",
       "      <td>1517.8</td>\n",
       "    </tr>\n",
       "    <tr>\n",
       "      <th>2</th>\n",
       "      <td>200</td>\n",
       "      <td>Low</td>\n",
       "      <td>23</td>\n",
       "      <td>1320.1</td>\n",
       "    </tr>\n",
       "    <tr>\n",
       "      <th>3</th>\n",
       "      <td>209</td>\n",
       "      <td>Low</td>\n",
       "      <td>7</td>\n",
       "      <td>359.2</td>\n",
       "    </tr>\n",
       "    <tr>\n",
       "      <th>4</th>\n",
       "      <td>237</td>\n",
       "      <td>Low</td>\n",
       "      <td>10</td>\n",
       "      <td>2430.8</td>\n",
       "    </tr>\n",
       "    <tr>\n",
       "      <th>5</th>\n",
       "      <td>237</td>\n",
       "      <td>Low</td>\n",
       "      <td>3</td>\n",
       "      <td>7.2</td>\n",
       "    </tr>\n",
       "    <tr>\n",
       "      <th>6</th>\n",
       "      <td>266</td>\n",
       "      <td>Low</td>\n",
       "      <td>1</td>\n",
       "      <td>352.3</td>\n",
       "    </tr>\n",
       "    <tr>\n",
       "      <th>7</th>\n",
       "      <td>302</td>\n",
       "      <td>Low</td>\n",
       "      <td>5</td>\n",
       "      <td>3335.2</td>\n",
       "    </tr>\n",
       "    <tr>\n",
       "      <th>8</th>\n",
       "      <td>335</td>\n",
       "      <td>Low</td>\n",
       "      <td>9</td>\n",
       "      <td>937.8</td>\n",
       "    </tr>\n",
       "    <tr>\n",
       "      <th>9</th>\n",
       "      <td>351</td>\n",
       "      <td>Low</td>\n",
       "      <td>6</td>\n",
       "      <td>7135.2</td>\n",
       "    </tr>\n",
       "    <tr>\n",
       "      <th>10</th>\n",
       "      <td>505</td>\n",
       "      <td>Low</td>\n",
       "      <td>1</td>\n",
       "      <td>926.8</td>\n",
       "    </tr>\n",
       "    <tr>\n",
       "      <th>11</th>\n",
       "      <td>524</td>\n",
       "      <td>Low</td>\n",
       "      <td>7</td>\n",
       "      <td>895.7</td>\n",
       "    </tr>\n",
       "    <tr>\n",
       "      <th>12</th>\n",
       "      <td>536</td>\n",
       "      <td>Low</td>\n",
       "      <td>5</td>\n",
       "      <td>5569.9</td>\n",
       "    </tr>\n",
       "    <tr>\n",
       "      <th>13</th>\n",
       "      <td>646</td>\n",
       "      <td>Mid</td>\n",
       "      <td>7</td>\n",
       "      <td>8268.9</td>\n",
       "    </tr>\n",
       "    <tr>\n",
       "      <th>14</th>\n",
       "      <td>683</td>\n",
       "      <td>Mid</td>\n",
       "      <td>4</td>\n",
       "      <td>1756.0</td>\n",
       "    </tr>\n",
       "    <tr>\n",
       "      <th>15</th>\n",
       "      <td>742</td>\n",
       "      <td>Mid</td>\n",
       "      <td>2</td>\n",
       "      <td>989.9</td>\n",
       "    </tr>\n",
       "    <tr>\n",
       "      <th>16</th>\n",
       "      <td>747</td>\n",
       "      <td>Mid</td>\n",
       "      <td>7</td>\n",
       "      <td>3816.2</td>\n",
       "    </tr>\n",
       "    <tr>\n",
       "      <th>17</th>\n",
       "      <td>783</td>\n",
       "      <td>Mid</td>\n",
       "      <td>1</td>\n",
       "      <td>2610.9</td>\n",
       "    </tr>\n",
       "    <tr>\n",
       "      <th>18</th>\n",
       "      <td>839</td>\n",
       "      <td>Mid</td>\n",
       "      <td>5</td>\n",
       "      <td>2609.9</td>\n",
       "    </tr>\n",
       "    <tr>\n",
       "      <th>19</th>\n",
       "      <td>1221</td>\n",
       "      <td>High</td>\n",
       "      <td>8</td>\n",
       "      <td>8799.1</td>\n",
       "    </tr>\n",
       "  </tbody>\n",
       "</table>\n",
       "</div>"
      ],
      "text/plain": [
       "    Altitude (m) Elevation range  Producing Districts per Main Group  Average\n",
       "0            198             Low                                   8    671.3\n",
       "1            198             Low                                  10   1517.8\n",
       "2            200             Low                                  23   1320.1\n",
       "3            209             Low                                   7    359.2\n",
       "4            237             Low                                  10   2430.8\n",
       "5            237             Low                                   3      7.2\n",
       "6            266             Low                                   1    352.3\n",
       "7            302             Low                                   5   3335.2\n",
       "8            335             Low                                   9    937.8\n",
       "9            351             Low                                   6   7135.2\n",
       "10           505             Low                                   1    926.8\n",
       "11           524             Low                                   7    895.7\n",
       "12           536             Low                                   5   5569.9\n",
       "13           646             Mid                                   7   8268.9\n",
       "14           683             Mid                                   4   1756.0\n",
       "15           742             Mid                                   2    989.9\n",
       "16           747             Mid                                   7   3816.2\n",
       "17           783             Mid                                   1   2610.9\n",
       "18           839             Mid                                   5   2609.9\n",
       "19          1221            High                                   8   8799.1"
      ]
     },
     "execution_count": 47,
     "metadata": {},
     "output_type": "execute_result"
    }
   ],
   "source": [
    "#Look at data again\n",
    "df.head(20)"
   ]
  },
  {
   "cell_type": "code",
   "execution_count": 48,
   "metadata": {},
   "outputs": [
    {
     "data": {
      "text/html": [
       "<div>\n",
       "<style scoped>\n",
       "    .dataframe tbody tr th:only-of-type {\n",
       "        vertical-align: middle;\n",
       "    }\n",
       "\n",
       "    .dataframe tbody tr th {\n",
       "        vertical-align: top;\n",
       "    }\n",
       "\n",
       "    .dataframe thead th {\n",
       "        text-align: right;\n",
       "    }\n",
       "</style>\n",
       "<table border=\"1\" class=\"dataframe\">\n",
       "  <thead>\n",
       "    <tr style=\"text-align: right;\">\n",
       "      <th></th>\n",
       "      <th>Altitude (m)</th>\n",
       "      <th>Producing Districts per Main Group</th>\n",
       "      <th>Average</th>\n",
       "    </tr>\n",
       "  </thead>\n",
       "  <tbody>\n",
       "    <tr>\n",
       "      <th>count</th>\n",
       "      <td>63.000000</td>\n",
       "      <td>63.000000</td>\n",
       "      <td>63.000000</td>\n",
       "    </tr>\n",
       "    <tr>\n",
       "      <th>mean</th>\n",
       "      <td>531.984127</td>\n",
       "      <td>5.857143</td>\n",
       "      <td>3523.128571</td>\n",
       "    </tr>\n",
       "    <tr>\n",
       "      <th>std</th>\n",
       "      <td>293.041310</td>\n",
       "      <td>4.560904</td>\n",
       "      <td>4058.979565</td>\n",
       "    </tr>\n",
       "    <tr>\n",
       "      <th>min</th>\n",
       "      <td>73.000000</td>\n",
       "      <td>1.000000</td>\n",
       "      <td>0.000000</td>\n",
       "    </tr>\n",
       "    <tr>\n",
       "      <th>25%</th>\n",
       "      <td>301.500000</td>\n",
       "      <td>2.000000</td>\n",
       "      <td>911.250000</td>\n",
       "    </tr>\n",
       "    <tr>\n",
       "      <th>50%</th>\n",
       "      <td>505.000000</td>\n",
       "      <td>5.000000</td>\n",
       "      <td>1948.500000</td>\n",
       "    </tr>\n",
       "    <tr>\n",
       "      <th>75%</th>\n",
       "      <td>783.000000</td>\n",
       "      <td>8.000000</td>\n",
       "      <td>4916.550000</td>\n",
       "    </tr>\n",
       "    <tr>\n",
       "      <th>max</th>\n",
       "      <td>1274.000000</td>\n",
       "      <td>23.000000</td>\n",
       "      <td>19757.000000</td>\n",
       "    </tr>\n",
       "  </tbody>\n",
       "</table>\n",
       "</div>"
      ],
      "text/plain": [
       "       Altitude (m)  Producing Districts per Main Group       Average\n",
       "count     63.000000                           63.000000     63.000000\n",
       "mean     531.984127                            5.857143   3523.128571\n",
       "std      293.041310                            4.560904   4058.979565\n",
       "min       73.000000                            1.000000      0.000000\n",
       "25%      301.500000                            2.000000    911.250000\n",
       "50%      505.000000                            5.000000   1948.500000\n",
       "75%      783.000000                            8.000000   4916.550000\n",
       "max     1274.000000                           23.000000  19757.000000"
      ]
     },
     "execution_count": 48,
     "metadata": {},
     "output_type": "execute_result"
    }
   ],
   "source": [
    "#Get some basic statistics of the features I am interested in\n",
    "# I will ofcourse only see calculations for numerical columns\n",
    "df.describe()"
   ]
  },
  {
   "cell_type": "code",
   "execution_count": 49,
   "metadata": {},
   "outputs": [
    {
     "data": {
      "image/png": "[encoded data removed]",
      "text/plain": [
       "<Figure size 720x504 with 3 Axes>"
      ]
     },
     "metadata": {},
     "output_type": "display_data"
    }
   ],
   "source": [
    "# box and whisker plots to get a clear picture and see if there are outliers\n",
    "sns.set(rc={'figure.figsize':(10.0,7.0)})\n",
    "df.plot(kind='box', subplots=True, layout=(3,1), sharex=False, sharey=False)\n",
    "plt.tight_layout()\n",
    "plt.show()"
   ]
  },
  {
   "cell_type": "code",
   "execution_count": 50,
   "metadata": {},
   "outputs": [
    {
     "data": {
      "image/png": "[encoded data removed]",
      "text/plain": [
       "<Figure size 720x504 with 1 Axes>"
      ]
     },
     "metadata": {},
     "output_type": "display_data"
    }
   ],
   "source": [
    "#boxplots using seaborn\n",
    "#sns.set(rc={'figure.figsize':(10.0,7.0)})\n",
    "ax = sns.boxplot(data=df)"
   ]
  },
  {
   "cell_type": "code",
   "execution_count": 51,
   "metadata": {},
   "outputs": [
    {
     "data": {
      "text/plain": [
       "<seaborn.axisgrid.PairGrid at 0x7f522b6d8820>"
      ]
     },
     "execution_count": 51,
     "metadata": {},
     "output_type": "execute_result"
    },
    {
     "data": {
      "image/png": "[encoded data removed]",
      "text/plain": [
       "<Figure size 540x540 with 12 Axes>"
      ]
     },
     "metadata": {},
     "output_type": "display_data"
    }
   ],
   "source": [
    "#visualization uing a pairplot\n",
    "#I can observe some behavioural patterns and some seem random.\n",
    "#There seem to be a relationship with average and altitude (looks linear).\n",
    "#I can't say the same for altitude and producing districts\n",
    "sns.pairplot(data=df)"
   ]
  },
  {
   "cell_type": "markdown",
   "metadata": {},
   "source": [
    "## 3. Prepare Features and Machine Learning Models"
   ]
  },
  {
   "cell_type": "code",
   "execution_count": 52,
   "metadata": {},
   "outputs": [
    {
     "data": {
      "text/html": [
       "<div>\n",
       "<style scoped>\n",
       "    .dataframe tbody tr th:only-of-type {\n",
       "        vertical-align: middle;\n",
       "    }\n",
       "\n",
       "    .dataframe tbody tr th {\n",
       "        vertical-align: top;\n",
       "    }\n",
       "\n",
       "    .dataframe thead th {\n",
       "        text-align: right;\n",
       "    }\n",
       "</style>\n",
       "<table border=\"1\" class=\"dataframe\">\n",
       "  <thead>\n",
       "    <tr style=\"text-align: right;\">\n",
       "      <th></th>\n",
       "      <th>Elevation__High</th>\n",
       "      <th>Elevation__Low</th>\n",
       "      <th>Elevation__Mid</th>\n",
       "    </tr>\n",
       "  </thead>\n",
       "  <tbody>\n",
       "    <tr>\n",
       "      <th>0</th>\n",
       "      <td>0</td>\n",
       "      <td>1</td>\n",
       "      <td>0</td>\n",
       "    </tr>\n",
       "    <tr>\n",
       "      <th>1</th>\n",
       "      <td>0</td>\n",
       "      <td>1</td>\n",
       "      <td>0</td>\n",
       "    </tr>\n",
       "    <tr>\n",
       "      <th>2</th>\n",
       "      <td>0</td>\n",
       "      <td>1</td>\n",
       "      <td>0</td>\n",
       "    </tr>\n",
       "    <tr>\n",
       "      <th>3</th>\n",
       "      <td>0</td>\n",
       "      <td>1</td>\n",
       "      <td>0</td>\n",
       "    </tr>\n",
       "    <tr>\n",
       "      <th>4</th>\n",
       "      <td>0</td>\n",
       "      <td>1</td>\n",
       "      <td>0</td>\n",
       "    </tr>\n",
       "  </tbody>\n",
       "</table>\n",
       "</div>"
      ],
      "text/plain": [
       "   Elevation__High  Elevation__Low  Elevation__Mid\n",
       "0                0               1               0\n",
       "1                0               1               0\n",
       "2                0               1               0\n",
       "3                0               1               0\n",
       "4                0               1               0"
      ]
     },
     "execution_count": 52,
     "metadata": {},
     "output_type": "execute_result"
    }
   ],
   "source": [
    "#Performing one hot encoding of Elevation Range. \n",
    "#Note that the return is a dataframe\n",
    "#As good practice I will add a prefix to the column names\n",
    "dummy_elevation = pd.get_dummies(df['Elevation range'], prefix='Elevation_')\n",
    "dummy_elevation.head()"
   ]
  },
  {
   "cell_type": "code",
   "execution_count": 53,
   "metadata": {},
   "outputs": [
    {
     "data": {
      "text/html": [
       "<div>\n",
       "<style scoped>\n",
       "    .dataframe tbody tr th:only-of-type {\n",
       "        vertical-align: middle;\n",
       "    }\n",
       "\n",
       "    .dataframe tbody tr th {\n",
       "        vertical-align: top;\n",
       "    }\n",
       "\n",
       "    .dataframe thead th {\n",
       "        text-align: right;\n",
       "    }\n",
       "</style>\n",
       "<table border=\"1\" class=\"dataframe\">\n",
       "  <thead>\n",
       "    <tr style=\"text-align: right;\">\n",
       "      <th></th>\n",
       "      <th>Altitude (m)</th>\n",
       "      <th>Elevation range</th>\n",
       "      <th>Producing Districts per Main Group</th>\n",
       "      <th>Average</th>\n",
       "      <th>Elevation__High</th>\n",
       "      <th>Elevation__Low</th>\n",
       "      <th>Elevation__Mid</th>\n",
       "    </tr>\n",
       "  </thead>\n",
       "  <tbody>\n",
       "    <tr>\n",
       "      <th>0</th>\n",
       "      <td>198</td>\n",
       "      <td>Low</td>\n",
       "      <td>8</td>\n",
       "      <td>671.3</td>\n",
       "      <td>0</td>\n",
       "      <td>1</td>\n",
       "      <td>0</td>\n",
       "    </tr>\n",
       "    <tr>\n",
       "      <th>1</th>\n",
       "      <td>198</td>\n",
       "      <td>Low</td>\n",
       "      <td>10</td>\n",
       "      <td>1517.8</td>\n",
       "      <td>0</td>\n",
       "      <td>1</td>\n",
       "      <td>0</td>\n",
       "    </tr>\n",
       "    <tr>\n",
       "      <th>2</th>\n",
       "      <td>200</td>\n",
       "      <td>Low</td>\n",
       "      <td>23</td>\n",
       "      <td>1320.1</td>\n",
       "      <td>0</td>\n",
       "      <td>1</td>\n",
       "      <td>0</td>\n",
       "    </tr>\n",
       "    <tr>\n",
       "      <th>3</th>\n",
       "      <td>209</td>\n",
       "      <td>Low</td>\n",
       "      <td>7</td>\n",
       "      <td>359.2</td>\n",
       "      <td>0</td>\n",
       "      <td>1</td>\n",
       "      <td>0</td>\n",
       "    </tr>\n",
       "    <tr>\n",
       "      <th>4</th>\n",
       "      <td>237</td>\n",
       "      <td>Low</td>\n",
       "      <td>10</td>\n",
       "      <td>2430.8</td>\n",
       "      <td>0</td>\n",
       "      <td>1</td>\n",
       "      <td>0</td>\n",
       "    </tr>\n",
       "  </tbody>\n",
       "</table>\n",
       "</div>"
      ],
      "text/plain": [
       "   Altitude (m) Elevation range  Producing Districts per Main Group  Average  \\\n",
       "0           198             Low                                   8    671.3   \n",
       "1           198             Low                                  10   1517.8   \n",
       "2           200             Low                                  23   1320.1   \n",
       "3           209             Low                                   7    359.2   \n",
       "4           237             Low                                  10   2430.8   \n",
       "\n",
       "   Elevation__High  Elevation__Low  Elevation__Mid  \n",
       "0                0               1               0  \n",
       "1                0               1               0  \n",
       "2                0               1               0  \n",
       "3                0               1               0  \n",
       "4                0               1               0  "
      ]
     },
     "execution_count": 53,
     "metadata": {},
     "output_type": "execute_result"
    }
   ],
   "source": [
    "#We now need to merge/concat the orginal with this dataframe\n",
    "#We will have the original dataframe on the left and use the index of both as the join key\n",
    "#This should match up the dataframes\n",
    "\n",
    "df = pd.merge(\n",
    "    left=df,\n",
    "    right=dummy_elevation,\n",
    "    left_index=True,\n",
    "    right_index=True,\n",
    ")\n",
    "df.head()\n"
   ]
  },
  {
   "cell_type": "code",
   "execution_count": 54,
   "metadata": {},
   "outputs": [
    {
     "data": {
      "text/html": [
       "<div>\n",
       "<style scoped>\n",
       "    .dataframe tbody tr th:only-of-type {\n",
       "        vertical-align: middle;\n",
       "    }\n",
       "\n",
       "    .dataframe tbody tr th {\n",
       "        vertical-align: top;\n",
       "    }\n",
       "\n",
       "    .dataframe thead th {\n",
       "        text-align: right;\n",
       "    }\n",
       "</style>\n",
       "<table border=\"1\" class=\"dataframe\">\n",
       "  <thead>\n",
       "    <tr style=\"text-align: right;\">\n",
       "      <th></th>\n",
       "      <th>Altitude (m)</th>\n",
       "      <th>Producing Districts per Main Group</th>\n",
       "      <th>Average</th>\n",
       "      <th>Elevation__High</th>\n",
       "      <th>Elevation__Low</th>\n",
       "      <th>Elevation__Mid</th>\n",
       "    </tr>\n",
       "  </thead>\n",
       "  <tbody>\n",
       "    <tr>\n",
       "      <th>0</th>\n",
       "      <td>198</td>\n",
       "      <td>8</td>\n",
       "      <td>671.3</td>\n",
       "      <td>0</td>\n",
       "      <td>1</td>\n",
       "      <td>0</td>\n",
       "    </tr>\n",
       "    <tr>\n",
       "      <th>1</th>\n",
       "      <td>198</td>\n",
       "      <td>10</td>\n",
       "      <td>1517.8</td>\n",
       "      <td>0</td>\n",
       "      <td>1</td>\n",
       "      <td>0</td>\n",
       "    </tr>\n",
       "    <tr>\n",
       "      <th>2</th>\n",
       "      <td>200</td>\n",
       "      <td>23</td>\n",
       "      <td>1320.1</td>\n",
       "      <td>0</td>\n",
       "      <td>1</td>\n",
       "      <td>0</td>\n",
       "    </tr>\n",
       "    <tr>\n",
       "      <th>3</th>\n",
       "      <td>209</td>\n",
       "      <td>7</td>\n",
       "      <td>359.2</td>\n",
       "      <td>0</td>\n",
       "      <td>1</td>\n",
       "      <td>0</td>\n",
       "    </tr>\n",
       "    <tr>\n",
       "      <th>4</th>\n",
       "      <td>237</td>\n",
       "      <td>10</td>\n",
       "      <td>2430.8</td>\n",
       "      <td>0</td>\n",
       "      <td>1</td>\n",
       "      <td>0</td>\n",
       "    </tr>\n",
       "  </tbody>\n",
       "</table>\n",
       "</div>"
      ],
      "text/plain": [
       "   Altitude (m)  Producing Districts per Main Group  Average  Elevation__High  \\\n",
       "0           198                                   8    671.3                0   \n",
       "1           198                                  10   1517.8                0   \n",
       "2           200                                  23   1320.1                0   \n",
       "3           209                                   7    359.2                0   \n",
       "4           237                                  10   2430.8                0   \n",
       "\n",
       "   Elevation__Low  Elevation__Mid  \n",
       "0               1               0  \n",
       "1               1               0  \n",
       "2               1               0  \n",
       "3               1               0  \n",
       "4               1               0  "
      ]
     },
     "execution_count": 54,
     "metadata": {},
     "output_type": "execute_result"
    }
   ],
   "source": [
    "#I will now drop the Elevation range column\n",
    "df = df.drop(columns = ['Elevation range']) \n",
    "df.head()"
   ]
  },
  {
   "cell_type": "code",
   "execution_count": 55,
   "metadata": {},
   "outputs": [],
   "source": [
    "# Separation of label from our features\n",
    "X = df.drop(columns = ['Average'])\n",
    "y = df['Average']\n"
   ]
  },
  {
   "cell_type": "code",
   "execution_count": 56,
   "metadata": {},
   "outputs": [
    {
     "data": {
      "text/html": [
       "<div>\n",
       "<style scoped>\n",
       "    .dataframe tbody tr th:only-of-type {\n",
       "        vertical-align: middle;\n",
       "    }\n",
       "\n",
       "    .dataframe tbody tr th {\n",
       "        vertical-align: top;\n",
       "    }\n",
       "\n",
       "    .dataframe thead th {\n",
       "        text-align: right;\n",
       "    }\n",
       "</style>\n",
       "<table border=\"1\" class=\"dataframe\">\n",
       "  <thead>\n",
       "    <tr style=\"text-align: right;\">\n",
       "      <th></th>\n",
       "      <th>Altitude (m)</th>\n",
       "      <th>Producing Districts per Main Group</th>\n",
       "      <th>Elevation__High</th>\n",
       "      <th>Elevation__Low</th>\n",
       "      <th>Elevation__Mid</th>\n",
       "    </tr>\n",
       "  </thead>\n",
       "  <tbody>\n",
       "    <tr>\n",
       "      <th>0</th>\n",
       "      <td>198</td>\n",
       "      <td>8</td>\n",
       "      <td>0</td>\n",
       "      <td>1</td>\n",
       "      <td>0</td>\n",
       "    </tr>\n",
       "    <tr>\n",
       "      <th>1</th>\n",
       "      <td>198</td>\n",
       "      <td>10</td>\n",
       "      <td>0</td>\n",
       "      <td>1</td>\n",
       "      <td>0</td>\n",
       "    </tr>\n",
       "    <tr>\n",
       "      <th>2</th>\n",
       "      <td>200</td>\n",
       "      <td>23</td>\n",
       "      <td>0</td>\n",
       "      <td>1</td>\n",
       "      <td>0</td>\n",
       "    </tr>\n",
       "    <tr>\n",
       "      <th>3</th>\n",
       "      <td>209</td>\n",
       "      <td>7</td>\n",
       "      <td>0</td>\n",
       "      <td>1</td>\n",
       "      <td>0</td>\n",
       "    </tr>\n",
       "    <tr>\n",
       "      <th>4</th>\n",
       "      <td>237</td>\n",
       "      <td>10</td>\n",
       "      <td>0</td>\n",
       "      <td>1</td>\n",
       "      <td>0</td>\n",
       "    </tr>\n",
       "    <tr>\n",
       "      <th>...</th>\n",
       "      <td>...</td>\n",
       "      <td>...</td>\n",
       "      <td>...</td>\n",
       "      <td>...</td>\n",
       "      <td>...</td>\n",
       "    </tr>\n",
       "    <tr>\n",
       "      <th>58</th>\n",
       "      <td>938</td>\n",
       "      <td>1</td>\n",
       "      <td>1</td>\n",
       "      <td>0</td>\n",
       "      <td>0</td>\n",
       "    </tr>\n",
       "    <tr>\n",
       "      <th>59</th>\n",
       "      <td>980</td>\n",
       "      <td>9</td>\n",
       "      <td>1</td>\n",
       "      <td>0</td>\n",
       "      <td>0</td>\n",
       "    </tr>\n",
       "    <tr>\n",
       "      <th>60</th>\n",
       "      <td>981</td>\n",
       "      <td>3</td>\n",
       "      <td>1</td>\n",
       "      <td>0</td>\n",
       "      <td>0</td>\n",
       "    </tr>\n",
       "    <tr>\n",
       "      <th>61</th>\n",
       "      <td>1050</td>\n",
       "      <td>5</td>\n",
       "      <td>1</td>\n",
       "      <td>0</td>\n",
       "      <td>0</td>\n",
       "    </tr>\n",
       "    <tr>\n",
       "      <th>62</th>\n",
       "      <td>1274</td>\n",
       "      <td>2</td>\n",
       "      <td>1</td>\n",
       "      <td>0</td>\n",
       "      <td>0</td>\n",
       "    </tr>\n",
       "  </tbody>\n",
       "</table>\n",
       "<p>63 rows × 5 columns</p>\n",
       "</div>"
      ],
      "text/plain": [
       "    Altitude (m)  Producing Districts per Main Group  Elevation__High  \\\n",
       "0            198                                   8                0   \n",
       "1            198                                  10                0   \n",
       "2            200                                  23                0   \n",
       "3            209                                   7                0   \n",
       "4            237                                  10                0   \n",
       "..           ...                                 ...              ...   \n",
       "58           938                                   1                1   \n",
       "59           980                                   9                1   \n",
       "60           981                                   3                1   \n",
       "61          1050                                   5                1   \n",
       "62          1274                                   2                1   \n",
       "\n",
       "    Elevation__Low  Elevation__Mid  \n",
       "0                1               0  \n",
       "1                1               0  \n",
       "2                1               0  \n",
       "3                1               0  \n",
       "4                1               0  \n",
       "..             ...             ...  \n",
       "58               0               0  \n",
       "59               0               0  \n",
       "60               0               0  \n",
       "61               0               0  \n",
       "62               0               0  \n",
       "\n",
       "[63 rows x 5 columns]"
      ]
     },
     "execution_count": 56,
     "metadata": {},
     "output_type": "execute_result"
    }
   ],
   "source": [
    "#check x and y\n",
    "X\n",
    "#y"
   ]
  },
  {
   "cell_type": "code",
   "execution_count": 57,
   "metadata": {},
   "outputs": [
    {
     "data": {
      "text/html": [
       "<div>\n",
       "<style scoped>\n",
       "    .dataframe tbody tr th:only-of-type {\n",
       "        vertical-align: middle;\n",
       "    }\n",
       "\n",
       "    .dataframe tbody tr th {\n",
       "        vertical-align: top;\n",
       "    }\n",
       "\n",
       "    .dataframe thead th {\n",
       "        text-align: right;\n",
       "    }\n",
       "</style>\n",
       "<table border=\"1\" class=\"dataframe\">\n",
       "  <thead>\n",
       "    <tr style=\"text-align: right;\">\n",
       "      <th></th>\n",
       "      <th>Altitude (m)</th>\n",
       "      <th>Producing Districts per Main Group</th>\n",
       "      <th>Elevation__High</th>\n",
       "      <th>Elevation__Low</th>\n",
       "      <th>Elevation__Mid</th>\n",
       "    </tr>\n",
       "  </thead>\n",
       "  <tbody>\n",
       "    <tr>\n",
       "      <th>0</th>\n",
       "      <td>0.104080</td>\n",
       "      <td>0.318182</td>\n",
       "      <td>0.0</td>\n",
       "      <td>1.0</td>\n",
       "      <td>0.0</td>\n",
       "    </tr>\n",
       "    <tr>\n",
       "      <th>1</th>\n",
       "      <td>0.104080</td>\n",
       "      <td>0.409091</td>\n",
       "      <td>0.0</td>\n",
       "      <td>1.0</td>\n",
       "      <td>0.0</td>\n",
       "    </tr>\n",
       "    <tr>\n",
       "      <th>2</th>\n",
       "      <td>0.105745</td>\n",
       "      <td>1.000000</td>\n",
       "      <td>0.0</td>\n",
       "      <td>1.0</td>\n",
       "      <td>0.0</td>\n",
       "    </tr>\n",
       "    <tr>\n",
       "      <th>3</th>\n",
       "      <td>0.113239</td>\n",
       "      <td>0.272727</td>\n",
       "      <td>0.0</td>\n",
       "      <td>1.0</td>\n",
       "      <td>0.0</td>\n",
       "    </tr>\n",
       "    <tr>\n",
       "      <th>4</th>\n",
       "      <td>0.136553</td>\n",
       "      <td>0.409091</td>\n",
       "      <td>0.0</td>\n",
       "      <td>1.0</td>\n",
       "      <td>0.0</td>\n",
       "    </tr>\n",
       "  </tbody>\n",
       "</table>\n",
       "</div>"
      ],
      "text/plain": [
       "   Altitude (m)  Producing Districts per Main Group  Elevation__High  \\\n",
       "0      0.104080                            0.318182              0.0   \n",
       "1      0.104080                            0.409091              0.0   \n",
       "2      0.105745                            1.000000              0.0   \n",
       "3      0.113239                            0.272727              0.0   \n",
       "4      0.136553                            0.409091              0.0   \n",
       "\n",
       "   Elevation__Low  Elevation__Mid  \n",
       "0             1.0             0.0  \n",
       "1             1.0             0.0  \n",
       "2             1.0             0.0  \n",
       "3             1.0             0.0  \n",
       "4             1.0             0.0  "
      ]
     },
     "execution_count": 57,
     "metadata": {},
     "output_type": "execute_result"
    }
   ],
   "source": [
    "#I will now scale these values.\n",
    "#NB: I have the Average in the middle but we will drop it soon, so we don't have to worry about it\n",
    "# \n",
    "from sklearn.preprocessing import MinMaxScaler\n",
    "scaler = MinMaxScaler()\n",
    "# Observe that the scaler.fit_transform takes numpy array as argument\n",
    "df_scaled = scaler.fit_transform(X.to_numpy())\n",
    "# We then need to trasform back \n",
    "df_scaled = pd.DataFrame(df_scaled, columns=['Altitude (m)','Producing Districts per Main Group', 'Elevation__High','Elevation__Low','Elevation__Mid'])\n",
    "df_scaled.head()"
   ]
  },
  {
   "cell_type": "markdown",
   "metadata": {},
   "source": [
    "## 4. Modeling"
   ]
  },
  {
   "cell_type": "code",
   "execution_count": 58,
   "metadata": {
    "tags": []
   },
   "outputs": [],
   "source": [
    "#Split the data into testing and training\n",
    "#convert to arrays for models\n",
    "X = np.array(df_scaled) \n",
    "y = np.array(y)\n",
    "X_train, X_test, y_train, y_test = train_test_split(X,y,test_size=0.2)"
   ]
  },
  {
   "cell_type": "code",
   "execution_count": 59,
   "metadata": {},
   "outputs": [
    {
     "data": {
      "text/plain": [
       "array([6.69700e+02, 4.69810e+03, 7.95500e+03, 9.89900e+02, 1.32010e+03,\n",
       "       5.81830e+03, 1.92900e+02, 4.57000e+01, 5.62680e+03, 9.34030e+03,\n",
       "       1.83470e+03, 1.94850e+03, 5.13500e+03, 1.28800e+02, 1.64020e+03,\n",
       "       2.61090e+03, 1.86430e+03, 0.00000e+00, 3.79750e+03, 7.13520e+03,\n",
       "       3.52300e+02, 1.51780e+03, 9.37800e+02, 2.05830e+03, 1.24030e+03,\n",
       "       1.55920e+03, 6.84300e+02, 1.43090e+03, 3.04550e+03, 4.30000e+00,\n",
       "       8.79910e+03, 3.81620e+03, 0.00000e+00, 9.26800e+02, 2.60990e+03,\n",
       "       9.14480e+03, 0.00000e+00, 6.17700e+02, 3.52210e+03, 3.59200e+02,\n",
       "       5.25330e+03, 1.75600e+03, 7.26100e+02, 1.37929e+04, 3.12020e+03,\n",
       "       8.26890e+03, 7.20000e+00, 1.25301e+04, 3.33520e+03, 1.97570e+04])"
      ]
     },
     "execution_count": 59,
     "metadata": {},
     "output_type": "execute_result"
    }
   ],
   "source": [
    "y_train"
   ]
  },
  {
   "cell_type": "code",
   "execution_count": 60,
   "metadata": {},
   "outputs": [],
   "source": [
    "#import models\n",
    "\n",
    "from xgboost import XGBRegressor\n",
    "from lightgbm import LGBMRegressor\n",
    "from sklearn.linear_model import SGDRegressor\n",
    "from sklearn.kernel_ridge import KernelRidge\n",
    "from sklearn.ensemble import GradientBoostingRegressor\n",
    "from sklearn.svm import SVR"
   ]
  },
  {
   "cell_type": "code",
   "execution_count": 61,
   "metadata": {},
   "outputs": [],
   "source": [
    "#Store the model objects in an array so we can process them in a loop\n",
    "models = []\n",
    "\n",
    "models.append(('LR', LinearRegression()))\n",
    "models.append(('LGBMR', XGBRegressor()))\n",
    "models.append(('SGD', SGDRegressor()))\n",
    "models.append(('KR', KernelRidge()))\n",
    "models.append(('GBR', GradientBoostingRegressor()))\n",
    "models.append(('SVR', SVR()))"
   ]
  },
  {
   "cell_type": "code",
   "execution_count": 62,
   "metadata": {},
   "outputs": [],
   "source": [
    "#The model_selection utility provides  a way how I can score and compare our models\n",
    "from sklearn import model_selection"
   ]
  },
  {
   "cell_type": "code",
   "execution_count": 63,
   "metadata": {},
   "outputs": [
    {
     "name": "stdout",
     "output_type": "stream",
     "text": [
      "LR => 14792778.634092 \n",
      "LGBMR => 30389624.503019 \n",
      "SGD => 14484732.290261 \n",
      "KR => 14349613.933233 \n",
      "GBR => 24705437.750485 \n",
      "SVR => 19307578.674022 \n"
     ]
    },
    {
     "data": {
      "text/plain": [
       "{'KR': 14349613.933233494,\n",
       " 'SGD': 14484732.29026102,\n",
       " 'LR': 14792778.634092111,\n",
       " 'SVR': 19307578.674022447,\n",
       " 'GBR': 24705437.750485,\n",
       " 'LGBMR': 30389624.50301913}"
      ]
     },
     "execution_count": 63,
     "metadata": {},
     "output_type": "execute_result"
    }
   ],
   "source": [
    "#I need a structure to store our results and our model names. I will use a dictionary for this\n",
    "#I also make use of a random_state value to ensure I can repeat our test with the same results\n",
    "#The smaller the Mean Squared Error, the closer the fit is to the data.\n",
    "from sklearn.metrics import r2_score, mean_squared_error, make_scorer\n",
    "\n",
    "def MSE(y_true,y_pred):\n",
    "    mse = mean_squared_error(y_true, y_pred)\n",
    "    #print ('MSE: %2.3f' % mse)\n",
    "    return mse\n",
    "\n",
    "def my_scorer():\n",
    "    return make_scorer(MSE, greater_is_better=False) # change to true if using something like R2\n",
    "\n",
    "\n",
    "results={}\n",
    "for name, model in models:\n",
    "    kfold = model_selection.KFold(n_splits=10,random_state=7, shuffle=True)\n",
    "    score_results = model_selection.cross_val_score(model, X_train, y_train, cv=kfold, scoring=my_scorer()) \n",
    "    #neg_mean_squared_error for scoring is very confusing, but the MSE is the positive version of the result.\n",
    "    #As a result I wrote my own scorer\n",
    "    results[name] = abs(score_results.mean()) #I calculated the absolute value of result\n",
    "    \n",
    "for key, value in results.items():\n",
    "    print(\"%s => %f \" % (key,value))\n",
    "\n",
    "# Sort the results\n",
    "dict(sorted(results.items(), key=lambda item: item[1]))\n",
    "  "
   ]
  },
  {
   "cell_type": "markdown",
   "metadata": {},
   "source": [
    "## 5. Parameter Tuning using GridSearch"
   ]
  },
  {
   "cell_type": "code",
   "execution_count": 64,
   "metadata": {},
   "outputs": [
    {
     "data": {
      "text/plain": [
       "GridSearchCV(cv=10, estimator=KernelRidge(),\n",
       "             param_grid={'alpha': [1.0, 2.0, 2.5, 1.5],\n",
       "                         'coef0': [0.0, 0.1, 0.5], 'degree': [1, 2, 3],\n",
       "                         'gamma': [None, 1, 0.1],\n",
       "                         'kernel': ['linear', 'sigmoid', 'rbf', 'poly']},\n",
       "             scoring=make_scorer(MSE, greater_is_better=False))"
      ]
     },
     "execution_count": 64,
     "metadata": {},
     "output_type": "execute_result"
    }
   ],
   "source": [
    "#I can use GridSearchCV to build a grid and see what would be the best combination parameters for kernel ridge  since\n",
    "# it gave use the highest score\n",
    "from sklearn.model_selection import GridSearchCV\n",
    "\n",
    "tuned_parameters = {\n",
    "    'alpha': [1.0, 2.0,2.5,1.5],\n",
    "    'kernel': ['linear', 'sigmoid','rbf','poly'],\n",
    "    'gamma':[None, 1, 0.1], \n",
    "    'degree':[1,2,3],\n",
    "    'coef0':[0.0, 0.1, 0.5]\n",
    "}\n",
    "\n",
    "kr_model = KernelRidge()\n",
    "gridSearch = GridSearchCV(kr_model, tuned_parameters, cv=10, scoring=my_scorer())\n",
    "gridSearch.fit(X_train, y_train)\n",
    "\n"
   ]
  },
  {
   "cell_type": "code",
   "execution_count": 65,
   "metadata": {},
   "outputs": [
    {
     "data": {
      "text/plain": [
       "-14948823.683719177"
      ]
     },
     "execution_count": 65,
     "metadata": {},
     "output_type": "execute_result"
    }
   ],
   "source": [
    "#I can then look at the best score from the result\n",
    "gridSearch.best_score_"
   ]
  },
  {
   "cell_type": "code",
   "execution_count": 66,
   "metadata": {},
   "outputs": [
    {
     "data": {
      "text/plain": [
       "{'alpha': 1.5, 'coef0': 0.0, 'degree': 1, 'gamma': 1, 'kernel': 'sigmoid'}"
      ]
     },
     "execution_count": 66,
     "metadata": {},
     "output_type": "execute_result"
    }
   ],
   "source": [
    "#I can also look at the best parameters\n",
    "gridSearch.best_params_"
   ]
  },
  {
   "cell_type": "code",
   "execution_count": 67,
   "metadata": {},
   "outputs": [],
   "source": [
    "#I will now select the best estimator(model with the best parameters) and store the model\n",
    "kr = gridSearch.best_estimator_"
   ]
  },
  {
   "cell_type": "code",
   "execution_count": 68,
   "metadata": {},
   "outputs": [
    {
     "data": {
      "text/plain": [
       "KernelRidge(alpha=1.5, coef0=0.0, degree=1, gamma=1, kernel='sigmoid')"
      ]
     },
     "execution_count": 68,
     "metadata": {},
     "output_type": "execute_result"
    }
   ],
   "source": [
    "#Training the model on the best estimator\n",
    "kr.fit(X_train, y_train)"
   ]
  },
  {
   "cell_type": "markdown",
   "metadata": {},
   "source": [
    "## 6. Predict with Test Values"
   ]
  },
  {
   "cell_type": "code",
   "execution_count": 69,
   "metadata": {},
   "outputs": [],
   "source": [
    "Y_Predict = kr.predict(X_test)"
   ]
  },
  {
   "cell_type": "code",
   "execution_count": 70,
   "metadata": {},
   "outputs": [
    {
     "data": {
      "text/plain": [
       "10428420.770399392"
      ]
     },
     "execution_count": 70,
     "metadata": {},
     "output_type": "execute_result"
    }
   ],
   "source": [
    "#This is such a big score. Pretty bad performance for the best model that we have.\n",
    "\n",
    "MSE(y_test, Y_Predict)"
   ]
  },
  {
   "cell_type": "code",
   "execution_count": 73,
   "metadata": {},
   "outputs": [
    {
     "data": {
      "text/plain": [
       "Text(0.5, 1.0, 'True Average vs Predicted Average: $Y_i$ vs $\\\\hat{Y}_i$')"
      ]
     },
     "execution_count": 73,
     "metadata": {},
     "output_type": "execute_result"
    },
    {
     "data": {
      "image/png": "[encoded data removed]",
      "text/plain": [
       "<Figure size 720x504 with 1 Axes>"
      ]
     },
     "metadata": {},
     "output_type": "display_data"
    }
   ],
   "source": [
    "#The scatter plot should create a linear line if the model is performing well\n",
    "\n",
    "plt.scatter(y_test, Y_Predict)\n",
    "plt.xlabel(\"True Average: $Y_i$\")\n",
    "plt.ylabel(\"Predicted Average: $\\hat{Y}_i$\")\n",
    "plt.yticks( range(0,16000,2000) )\n",
    "plt.title(\"True Average vs Predicted Average: $Y_i$ vs $\\hat{Y}_i$\")"
   ]
  },
  {
   "cell_type": "markdown",
   "metadata": {},
   "source": [
    "### Using residual plot to visualize errors in Data. The data should be scattered around line zero"
   ]
  },
  {
   "cell_type": "code",
   "execution_count": 72,
   "metadata": {},
   "outputs": [
    {
     "data": {
      "text/plain": [
       "Text(0, 0.5, 'Residuals')"
      ]
     },
     "execution_count": 72,
     "metadata": {},
     "output_type": "execute_result"
    },
    {
     "data": {
      "image/png": "[encoded data removed]",
      "text/plain": [
       "<Figure size 720x504 with 1 Axes>"
      ]
     },
     "metadata": {},
     "output_type": "display_data"
    }
   ],
   "source": [
    "plt.scatter(kr.predict(X_train),kr.predict(X_train) - y_train,c='b',s=40, alpha=0.5)\n",
    "plt.scatter(kr.predict(X_test), kr.predict(X_test) - y_test, c='g',s=40)\n",
    "plt.hlines(y=0, xmin=-2000, xmax=14000)\n",
    "plt.title('Residual Plot using training (blue) and test (green) data')\n",
    "plt.ylabel('Residuals')"
   ]
  },
  {
   "cell_type": "markdown",
   "metadata": {},
   "source": [
    "## 7. Conclusion"
   ]
  },
  {
   "cell_type": "markdown",
   "metadata": {},
   "source": [
    "The above shows that we are way off with our prediction. Based on the data, I think I need more data to be able to get meaningful results."
   ]
  }
 ],
 "metadata": {
  "interpreter": {
   "hash": "5c5b210ffa015f2312f69f2248e3163602cc860559c1494ea467ed1fecf0f25e"
  },
  "kernelspec": {
   "display_name": "Python 3 (ipykernel)",
   "language": "python",
   "name": "python3"
  },
  "language_info": {
   "codemirror_mode": {
    "name": "ipython",
    "version": 3
   },
   "file_extension": ".py",
   "mimetype": "text/x-python",
   "name": "python",
   "nbconvert_exporter": "python",
   "pygments_lexer": "ipython3",
   "version": "3.9.12"
  }
 },
 "nbformat": 4,
 "nbformat_minor": 4
}
